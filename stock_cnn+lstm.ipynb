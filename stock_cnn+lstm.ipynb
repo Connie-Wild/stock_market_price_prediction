{
 "cells": [
  {
   "cell_type": "code",
   "execution_count": 1,
   "metadata": {},
   "outputs": [],
   "source": [
    "import datetime\n",
    "import numpy as np\n",
    "import pandas as pd\n",
    "import tensorflow as tf\n",
    "from tensorflow.keras.layers import Dense, Dropout, Activation, LSTM, Conv1D, MaxPooling1D, Flatten\n",
    "from tensorflow.keras.models import Sequential\n",
    "from tensorflow.keras.callbacks import EarlyStopping\n",
    "import matplotlib.pyplot as plt\n",
    "import pandas_datareader.data as web\n",
    "%matplotlib inline"
   ]
  },
  {
   "cell_type": "markdown",
   "metadata": {},
   "source": [
    "## データの準備\n",
    "pandas_datareaderを利用してyahooファイナンスから価格を取得する"
   ]
  },
  {
   "cell_type": "code",
   "execution_count": 2,
   "metadata": {},
   "outputs": [
    {
     "data": {
      "text/html": [
       "<div>\n",
       "<style scoped>\n",
       "    .dataframe tbody tr th:only-of-type {\n",
       "        vertical-align: middle;\n",
       "    }\n",
       "\n",
       "    .dataframe tbody tr th {\n",
       "        vertical-align: top;\n",
       "    }\n",
       "\n",
       "    .dataframe thead th {\n",
       "        text-align: right;\n",
       "    }\n",
       "</style>\n",
       "<table border=\"1\" class=\"dataframe\">\n",
       "  <thead>\n",
       "    <tr style=\"text-align: right;\">\n",
       "      <th></th>\n",
       "      <th>High</th>\n",
       "      <th>Low</th>\n",
       "      <th>Open</th>\n",
       "      <th>Close</th>\n",
       "      <th>Volume</th>\n",
       "      <th>Adj Close</th>\n",
       "    </tr>\n",
       "    <tr>\n",
       "      <th>Date</th>\n",
       "      <th></th>\n",
       "      <th></th>\n",
       "      <th></th>\n",
       "      <th></th>\n",
       "      <th></th>\n",
       "      <th></th>\n",
       "    </tr>\n",
       "  </thead>\n",
       "  <tbody>\n",
       "    <tr>\n",
       "      <th>2020-07-20</th>\n",
       "      <td>212.300003</td>\n",
       "      <td>203.009995</td>\n",
       "      <td>205.000000</td>\n",
       "      <td>211.600006</td>\n",
       "      <td>36884800.0</td>\n",
       "      <td>211.600006</td>\n",
       "    </tr>\n",
       "    <tr>\n",
       "      <th>2020-07-21</th>\n",
       "      <td>213.940002</td>\n",
       "      <td>208.029999</td>\n",
       "      <td>213.660004</td>\n",
       "      <td>208.750000</td>\n",
       "      <td>38105800.0</td>\n",
       "      <td>208.750000</td>\n",
       "    </tr>\n",
       "    <tr>\n",
       "      <th>2020-07-22</th>\n",
       "      <td>212.300003</td>\n",
       "      <td>208.389999</td>\n",
       "      <td>209.199997</td>\n",
       "      <td>211.750000</td>\n",
       "      <td>49605700.0</td>\n",
       "      <td>211.750000</td>\n",
       "    </tr>\n",
       "    <tr>\n",
       "      <th>2020-07-23</th>\n",
       "      <td>210.919998</td>\n",
       "      <td>202.149994</td>\n",
       "      <td>207.190002</td>\n",
       "      <td>202.539993</td>\n",
       "      <td>67275900.0</td>\n",
       "      <td>202.539993</td>\n",
       "    </tr>\n",
       "    <tr>\n",
       "      <th>2020-07-24</th>\n",
       "      <td>202.859894</td>\n",
       "      <td>197.509995</td>\n",
       "      <td>200.419998</td>\n",
       "      <td>201.339996</td>\n",
       "      <td>23712950.0</td>\n",
       "      <td>201.339996</td>\n",
       "    </tr>\n",
       "  </tbody>\n",
       "</table>\n",
       "</div>"
      ],
      "text/plain": [
       "                  High         Low        Open       Close      Volume  \\\n",
       "Date                                                                     \n",
       "2020-07-20  212.300003  203.009995  205.000000  211.600006  36884800.0   \n",
       "2020-07-21  213.940002  208.029999  213.660004  208.750000  38105800.0   \n",
       "2020-07-22  212.300003  208.389999  209.199997  211.750000  49605700.0   \n",
       "2020-07-23  210.919998  202.149994  207.190002  202.539993  67275900.0   \n",
       "2020-07-24  202.859894  197.509995  200.419998  201.339996  23712950.0   \n",
       "\n",
       "             Adj Close  \n",
       "Date                    \n",
       "2020-07-20  211.600006  \n",
       "2020-07-21  208.750000  \n",
       "2020-07-22  211.750000  \n",
       "2020-07-23  202.539993  \n",
       "2020-07-24  201.339996  "
      ]
     },
     "execution_count": 2,
     "metadata": {},
     "output_type": "execute_result"
    }
   ],
   "source": [
    "start = datetime.date.today() - datetime.timedelta(days=20*365)\n",
    "ohlcv = web.DataReader('MSFT', 'yahoo', start).dropna(axis=0)\n",
    "ohlcv.tail()"
   ]
  },
  {
   "cell_type": "markdown",
   "metadata": {},
   "source": [
    "## 騰落率に変換する(定常化)"
   ]
  },
  {
   "cell_type": "code",
   "execution_count": 3,
   "metadata": {},
   "outputs": [
    {
     "data": {
      "text/html": [
       "<div>\n",
       "<style scoped>\n",
       "    .dataframe tbody tr th:only-of-type {\n",
       "        vertical-align: middle;\n",
       "    }\n",
       "\n",
       "    .dataframe tbody tr th {\n",
       "        vertical-align: top;\n",
       "    }\n",
       "\n",
       "    .dataframe thead th {\n",
       "        text-align: right;\n",
       "    }\n",
       "</style>\n",
       "<table border=\"1\" class=\"dataframe\">\n",
       "  <thead>\n",
       "    <tr style=\"text-align: right;\">\n",
       "      <th></th>\n",
       "      <th>High</th>\n",
       "      <th>Low</th>\n",
       "      <th>Open</th>\n",
       "      <th>Close</th>\n",
       "      <th>Volume</th>\n",
       "      <th>Adj Close</th>\n",
       "    </tr>\n",
       "    <tr>\n",
       "      <th>Date</th>\n",
       "      <th></th>\n",
       "      <th></th>\n",
       "      <th></th>\n",
       "      <th></th>\n",
       "      <th></th>\n",
       "      <th></th>\n",
       "    </tr>\n",
       "  </thead>\n",
       "  <tbody>\n",
       "    <tr>\n",
       "      <th>2020-07-20</th>\n",
       "      <td>0.035408</td>\n",
       "      <td>0.008044</td>\n",
       "      <td>0.002592</td>\n",
       "      <td>0.042981</td>\n",
       "      <td>0.165938</td>\n",
       "      <td>0.042981</td>\n",
       "    </tr>\n",
       "    <tr>\n",
       "      <th>2020-07-21</th>\n",
       "      <td>0.007725</td>\n",
       "      <td>0.024728</td>\n",
       "      <td>0.042244</td>\n",
       "      <td>-0.013469</td>\n",
       "      <td>0.033103</td>\n",
       "      <td>-0.013469</td>\n",
       "    </tr>\n",
       "    <tr>\n",
       "      <th>2020-07-22</th>\n",
       "      <td>-0.007666</td>\n",
       "      <td>0.001731</td>\n",
       "      <td>-0.020874</td>\n",
       "      <td>0.014371</td>\n",
       "      <td>0.301789</td>\n",
       "      <td>0.014371</td>\n",
       "    </tr>\n",
       "    <tr>\n",
       "      <th>2020-07-23</th>\n",
       "      <td>-0.006500</td>\n",
       "      <td>-0.029944</td>\n",
       "      <td>-0.009608</td>\n",
       "      <td>-0.043495</td>\n",
       "      <td>0.356213</td>\n",
       "      <td>-0.043495</td>\n",
       "    </tr>\n",
       "    <tr>\n",
       "      <th>2020-07-24</th>\n",
       "      <td>-0.038214</td>\n",
       "      <td>-0.022953</td>\n",
       "      <td>-0.032675</td>\n",
       "      <td>-0.005925</td>\n",
       "      <td>-0.647527</td>\n",
       "      <td>-0.005925</td>\n",
       "    </tr>\n",
       "  </tbody>\n",
       "</table>\n",
       "</div>"
      ],
      "text/plain": [
       "                High       Low      Open     Close    Volume  Adj Close\n",
       "Date                                                                   \n",
       "2020-07-20  0.035408  0.008044  0.002592  0.042981  0.165938   0.042981\n",
       "2020-07-21  0.007725  0.024728  0.042244 -0.013469  0.033103  -0.013469\n",
       "2020-07-22 -0.007666  0.001731 -0.020874  0.014371  0.301789   0.014371\n",
       "2020-07-23 -0.006500 -0.029944 -0.009608 -0.043495  0.356213  -0.043495\n",
       "2020-07-24 -0.038214 -0.022953 -0.032675 -0.005925 -0.647527  -0.005925"
      ]
     },
     "execution_count": 3,
     "metadata": {},
     "output_type": "execute_result"
    }
   ],
   "source": [
    "data = ohlcv.copy()\n",
    "data = data.pct_change().dropna(axis=0)\n",
    "data.tail()"
   ]
  },
  {
   "cell_type": "markdown",
   "metadata": {},
   "source": [
    "## 計算スピード向上のためnumpy化"
   ]
  },
  {
   "cell_type": "code",
   "execution_count": 4,
   "metadata": {},
   "outputs": [
    {
     "name": "stdout",
     "output_type": "stream",
     "text": [
      "(5027, 4)\n"
     ]
    }
   ],
   "source": [
    "data = data.values[:, 0:4]\n",
    "print(data.shape)"
   ]
  },
  {
   "cell_type": "code",
   "execution_count": 5,
   "metadata": {},
   "outputs": [
    {
     "name": "stdout",
     "output_type": "stream",
     "text": [
      "[[-0.01493849 -0.01534296 -0.00356189 -0.01611459]\n",
      " [ 0.00535236  0.00458295 -0.01966041  0.0100091 ]\n",
      " [-0.00088731 -0.00547445 -0.00546946  0.01261261]\n",
      " [-0.0071048   0.00091743  0.01833181 -0.01601423]\n",
      " [ 0.01788909  0.02291476  0.01080108  0.01265823]\n",
      " [ 0.05008787  0.00358423 -0.00178094  0.05892857]]\n"
     ]
    }
   ],
   "source": [
    "print(data[:6, :])"
   ]
  },
  {
   "cell_type": "markdown",
   "metadata": {},
   "source": [
    "## future_days日後の終値変動率を予測\n",
    "yに結果として終値を格納し、Xに予測用のデータを格納する。"
   ]
  },
  {
   "cell_type": "code",
   "execution_count": 6,
   "metadata": {},
   "outputs": [
    {
     "name": "stdout",
     "output_type": "stream",
     "text": [
      "(5026,)\n",
      "(5026, 4)\n"
     ]
    }
   ],
   "source": [
    "future_days = 1\n",
    "y = data[future_days:, 3]\n",
    "print(y.shape)\n",
    "X = data[:len(data) - future_days, :]\n",
    "print(X.shape)"
   ]
  },
  {
   "cell_type": "markdown",
   "metadata": {},
   "source": [
    "## 入力層の準備\n",
    "time_steps日分のデータで予測する"
   ]
  },
  {
   "cell_type": "code",
   "execution_count": 7,
   "metadata": {},
   "outputs": [
    {
     "name": "stdout",
     "output_type": "stream",
     "text": [
      "(4927, 100, 4) (4927, 1)\n"
     ]
    }
   ],
   "source": [
    "time_steps = 100\n",
    "X_new = np.zeros((X.shape[0] - time_steps + 1, time_steps, X.shape[1]))\n",
    "y_new = np.zeros((y.shape[0] - time_steps + 1, 1))\n",
    "for ix in range(X_new.shape[0]):\n",
    "    for jx in range(time_steps):\n",
    "        X_new[ix, jx, :] = X[ix + jx, :]\n",
    "    y_new[ix] = y[ix + time_steps -1]\n",
    "print(X_new.shape, y_new.shape)"
   ]
  },
  {
   "cell_type": "markdown",
   "metadata": {},
   "source": [
    "## ホールドアウト法で学習用とテスト用のデータを分離する"
   ]
  },
  {
   "cell_type": "code",
   "execution_count": 8,
   "metadata": {},
   "outputs": [
    {
     "name": "stdout",
     "output_type": "stream",
     "text": [
      "(4021, 100, 4) (4021, 1)\n",
      "(906, 100, 4) (906, 1)\n"
     ]
    }
   ],
   "source": [
    "split = int(0.8 * data.shape[0])\n",
    "X_train = X_new[:split]\n",
    "X_test = X_new[split:]\n",
    "\n",
    "y_train = y_new[:split]\n",
    "y_test = y_new[split:]\n",
    "\n",
    "print(X_train.shape, y_train.shape)\n",
    "print(X_test.shape, y_test.shape)"
   ]
  },
  {
   "cell_type": "markdown",
   "metadata": {},
   "source": [
    "## モデル作成"
   ]
  },
  {
   "cell_type": "code",
   "execution_count": 9,
   "metadata": {},
   "outputs": [
    {
     "name": "stdout",
     "output_type": "stream",
     "text": [
      "Model: \"sequential\"\n",
      "_________________________________________________________________\n",
      "Layer (type)                 Output Shape              Param #   \n",
      "=================================================================\n",
      "conv1d (Conv1D)              (None, 100, 64)           832       \n",
      "_________________________________________________________________\n",
      "max_pooling1d (MaxPooling1D) (None, 50, 64)            0         \n",
      "_________________________________________________________________\n",
      "lstm (LSTM)                  (None, 50, 100)           66000     \n",
      "_________________________________________________________________\n",
      "dropout (Dropout)            (None, 50, 100)           0         \n",
      "_________________________________________________________________\n",
      "conv1d_1 (Conv1D)            (None, 50, 32)            9632      \n",
      "_________________________________________________________________\n",
      "max_pooling1d_1 (MaxPooling1 (None, 25, 32)            0         \n",
      "_________________________________________________________________\n",
      "flatten (Flatten)            (None, 800)               0         \n",
      "_________________________________________________________________\n",
      "dense (Dense)                (None, 1)                 801       \n",
      "_________________________________________________________________\n",
      "activation (Activation)      (None, 1)                 0         \n",
      "=================================================================\n",
      "Total params: 77,265\n",
      "Trainable params: 77,265\n",
      "Non-trainable params: 0\n",
      "_________________________________________________________________\n"
     ]
    }
   ],
   "source": [
    "model = Sequential()\n",
    "\n",
    "model.add(Conv1D(64, 3, input_shape=(X_train.shape[1], X_train.shape[2]), padding=\"same\"))\n",
    "model.add(MaxPooling1D(pool_size=2))\n",
    "model.add(LSTM(100, return_sequences=True))\n",
    "model.add(Dropout(0.2))\n",
    "model.add(Conv1D(32, 3, padding=\"same\"))\n",
    "model.add(MaxPooling1D(pool_size=2))\n",
    "model.add(Flatten())\n",
    "model.add(Dense(units=1))\n",
    "model.add(Activation('tanh'))\n",
    "\n",
    "model.summary()"
   ]
  },
  {
   "cell_type": "markdown",
   "metadata": {},
   "source": [
    "## 訓練過程の設定\n",
    "最適化アルゴリズムにAdamを採用する。"
   ]
  },
  {
   "cell_type": "code",
   "execution_count": 10,
   "metadata": {},
   "outputs": [],
   "source": [
    "model.compile(loss='mse', optimizer='adam', metrics=['acc', 'mae'])"
   ]
  },
  {
   "cell_type": "markdown",
   "metadata": {},
   "source": [
    "## 学習を開始する\n",
    "EarlyStoppingを利用し、過学習の状態となったら自動的に終了する。"
   ]
  },
  {
   "cell_type": "code",
   "execution_count": 11,
   "metadata": {},
   "outputs": [
    {
     "name": "stdout",
     "output_type": "stream",
     "text": [
      "Epoch 1/100\n",
      "16/16 - 1s - loss: 4.6230e-04 - acc: 0.0124 - mae: 0.0154 - val_loss: 3.7708e-04 - val_acc: 0.0099 - val_mae: 0.0134\n",
      "Epoch 2/100\n",
      "16/16 - 0s - loss: 3.5092e-04 - acc: 0.0124 - mae: 0.0128 - val_loss: 3.3286e-04 - val_acc: 0.0099 - val_mae: 0.0117\n",
      "Epoch 3/100\n",
      "16/16 - 0s - loss: 3.4238e-04 - acc: 0.0124 - mae: 0.0125 - val_loss: 3.2411e-04 - val_acc: 0.0099 - val_mae: 0.0114\n",
      "Epoch 4/100\n",
      "16/16 - 0s - loss: 3.4306e-04 - acc: 0.0124 - mae: 0.0126 - val_loss: 3.2539e-04 - val_acc: 0.0099 - val_mae: 0.0115\n",
      "Epoch 5/100\n",
      "16/16 - 0s - loss: 3.4008e-04 - acc: 0.0124 - mae: 0.0125 - val_loss: 3.2476e-04 - val_acc: 0.0099 - val_mae: 0.0114\n",
      "Epoch 6/100\n",
      "16/16 - 0s - loss: 3.3848e-04 - acc: 0.0124 - mae: 0.0125 - val_loss: 3.2525e-04 - val_acc: 0.0099 - val_mae: 0.0115\n",
      "Epoch 7/100\n",
      "16/16 - 0s - loss: 3.3787e-04 - acc: 0.0124 - mae: 0.0125 - val_loss: 3.2770e-04 - val_acc: 0.0099 - val_mae: 0.0116\n",
      "Epoch 8/100\n",
      "16/16 - 0s - loss: 3.3723e-04 - acc: 0.0124 - mae: 0.0125 - val_loss: 3.2622e-04 - val_acc: 0.0099 - val_mae: 0.0115\n",
      "Epoch 9/100\n",
      "16/16 - 0s - loss: 3.3455e-04 - acc: 0.0124 - mae: 0.0125 - val_loss: 3.2777e-04 - val_acc: 0.0099 - val_mae: 0.0116\n",
      "Epoch 10/100\n",
      "16/16 - 0s - loss: 3.3341e-04 - acc: 0.0124 - mae: 0.0124 - val_loss: 3.2490e-04 - val_acc: 0.0099 - val_mae: 0.0114\n",
      "Epoch 11/100\n",
      "16/16 - 0s - loss: 3.3601e-04 - acc: 0.0124 - mae: 0.0125 - val_loss: 3.2547e-04 - val_acc: 0.0099 - val_mae: 0.0115\n",
      "Epoch 12/100\n",
      "16/16 - 0s - loss: 3.3309e-04 - acc: 0.0124 - mae: 0.0125 - val_loss: 3.2730e-04 - val_acc: 0.0099 - val_mae: 0.0115\n",
      "Epoch 13/100\n",
      "16/16 - 0s - loss: 3.2973e-04 - acc: 0.0124 - mae: 0.0124 - val_loss: 3.2610e-04 - val_acc: 0.0099 - val_mae: 0.0115\n",
      "Epoch 00013: early stopping\n"
     ]
    }
   ],
   "source": [
    "es_cb = EarlyStopping(monitor='val_loss', patience=10, verbose=1, mode='auto')\n",
    "history = model.fit(X_train, y_train, batch_size=256, epochs=100, validation_data=(X_test, y_test), callbacks=[es_cb], verbose=2)"
   ]
  },
  {
   "cell_type": "markdown",
   "metadata": {},
   "source": [
    "## 学習の進み具合を可視化\n",
    "学習した結果lossとテストデータのval_lossが収束している事がわかる"
   ]
  },
  {
   "cell_type": "code",
   "execution_count": 12,
   "metadata": {},
   "outputs": [
    {
     "data": {
      "image/png": "[encoded data removed]",
      "text/plain": [
       "<Figure size 432x288 with 1 Axes>"
      ]
     },
     "metadata": {},
     "output_type": "display_data"
    }
   ],
   "source": [
    "plt.plot(range(len(history.history['loss'])), history.history['loss'], label='loss')\n",
    "plt.plot(range(len(history.history['loss'])), history.history['val_loss'], label='val_loss')\n",
    "plt.xlabel('epoch')\n",
    "plt.ylabel('loss')\n",
    "plt.legend() \n",
    "plt.show()"
   ]
  },
  {
   "cell_type": "markdown",
   "metadata": {},
   "source": [
    "## テストデータで学習結果を評価する"
   ]
  },
  {
   "cell_type": "code",
   "execution_count": 13,
   "metadata": {},
   "outputs": [
    {
     "name": "stdout",
     "output_type": "stream",
     "text": [
      "4/4 [==============================] - 0s 4ms/step - loss: 3.2610e-04 - acc: 0.0099 - mae: 0.0115\n",
      "loss: 0.0003261026577092707\n",
      "acc: 0.009933775290846825\n",
      "mae: 0.011472800746560097\n"
     ]
    }
   ],
   "source": [
    "score = model.evaluate(X_test, y_test, batch_size=256)\n",
    "print('loss:', score[0])\n",
    "print('acc:', score[1])\n",
    "print('mae:', score[2])"
   ]
  },
  {
   "cell_type": "markdown",
   "metadata": {},
   "source": [
    "## テストデータの予測結果(y_pred)を作成する"
   ]
  },
  {
   "cell_type": "code",
   "execution_count": 14,
   "metadata": {},
   "outputs": [],
   "source": [
    "y_pred = model.predict(X_test)"
   ]
  },
  {
   "cell_type": "markdown",
   "metadata": {},
   "source": [
    "## 騰落率を価格変動に変換する(非定常過程の復元)"
   ]
  },
  {
   "cell_type": "code",
   "execution_count": 15,
   "metadata": {},
   "outputs": [],
   "source": [
    "pred = []\n",
    "pred.append(float(1 * (1 + y_pred[0])))\n",
    "i = 1\n",
    "while(i < len(y_pred)):\n",
    "    pred.append(float(pred[i-1] * (1 + y_pred[i])))\n",
    "    i = i + 1\n",
    "test = []\n",
    "test.append(float(1 * (1 + y_test[0])))\n",
    "i = 1\n",
    "while(i < len(y_test)):\n",
    "    test.append(float(test[i-1] * (1 + y_test[i])))\n",
    "    i = i + 1"
   ]
  },
  {
   "cell_type": "markdown",
   "metadata": {},
   "source": [
    "## テストデータの結果"
   ]
  },
  {
   "cell_type": "code",
   "execution_count": 16,
   "metadata": {},
   "outputs": [
    {
     "data": {
      "image/png": "[encoded data removed]",
      "text/plain": [
       "<Figure size 432x288 with 1 Axes>"
      ]
     },
     "metadata": {},
     "output_type": "display_data"
    }
   ],
   "source": [
    "plt.plot(pred, label='pred')\n",
    "plt.plot(test, label='test')\n",
    "plt.legend() \n",
    "plt.show()"
   ]
  },
  {
   "cell_type": "code",
   "execution_count": 17,
   "metadata": {},
   "outputs": [
    {
     "name": "stdout",
     "output_type": "stream",
     "text": [
      "相関係数: 0.03678894420562559\n"
     ]
    },
    {
     "data": {
      "image/png": "[encoded data removed]",
      "text/plain": [
       "<Figure size 432x288 with 1 Axes>"
      ]
     },
     "metadata": {},
     "output_type": "display_data"
    }
   ],
   "source": [
    "print(f'相関係数: {np.corrcoef(np.ravel(y_pred), np.ravel(y_test))[0,1]}')\n",
    "plt.plot (y_pred, y_test, 'bo')\n",
    "plt.xlabel('pred')\n",
    "plt.ylabel('test')\n",
    "plt.show()"
   ]
  },
  {
   "cell_type": "markdown",
   "metadata": {},
   "source": [
    "## テストデータの騰落正答率"
   ]
  },
  {
   "cell_type": "code",
   "execution_count": 18,
   "metadata": {},
   "outputs": [
    {
     "name": "stdout",
     "output_type": "stream",
     "text": [
      "score: 0.5524861878453039\n"
     ]
    }
   ],
   "source": [
    "data_score = 0\n",
    "for i in range(y_pred.shape[0] - 1):\n",
    "    if y_pred[i] > 0 and y_test[i] > 0:\n",
    "        data_score += 1\n",
    "    elif y_pred[i] < 0 and y_test[i] < 0:\n",
    "        data_score += 1\n",
    "print(\"score: {}\".format(data_score / (y_pred.shape[0] - 1)))"
   ]
  },
  {
   "cell_type": "markdown",
   "metadata": {},
   "source": [
    "## おわりに\n",
    "この簡単なモデルでは騰落の正答率が55%と実際のトレードに利用するには難しい事がわかりました。  \n",
    "がっかりさせてしまったかもしれませんが、機械学習をトレードに利用する事は簡単ではありません。  \n",
    "ただ、機械学習を利用して収益を上げている方もいらっしゃいますので、このノートブックが貴方の第一歩になれば幸いです。  "
   ]
  }
 ],
 "metadata": {
  "kernelspec": {
   "display_name": "Python 3",
   "language": "python",
   "name": "python3"
  },
  "language_info": {
   "codemirror_mode": {
    "name": "ipython",
    "version": 3
   },
   "file_extension": ".py",
   "mimetype": "text/x-python",
   "name": "python",
   "nbconvert_exporter": "python",
   "pygments_lexer": "ipython3",
   "version": "3.6.8"
  }
 },
 "nbformat": 4,
 "nbformat_minor": 4
}
