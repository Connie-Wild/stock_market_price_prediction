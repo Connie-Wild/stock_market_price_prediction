{
 "cells": [
  {
   "cell_type": "code",
   "execution_count": 1,
   "metadata": {},
   "outputs": [],
   "source": [
    "import datetime\n",
    "import numpy as np\n",
    "import pandas as pd\n",
    "import tensorflow as tf\n",
    "from tensorflow.keras.layers import Dense, Dropout, Activation, LSTM, Conv1D, MaxPooling1D, Flatten\n",
    "from tensorflow.keras.models import Sequential\n",
    "from tensorflow.keras.callbacks import EarlyStopping\n",
    "import matplotlib.pyplot as plt\n",
    "import pandas_datareader.data as web\n",
    "%matplotlib inline"
   ]
  },
  {
   "cell_type": "markdown",
   "metadata": {},
   "source": [
    "## データの準備\n",
    "pandas_datareaderを利用してyahooファイナンスから価格を取得する"
   ]
  },
  {
   "cell_type": "code",
   "execution_count": 2,
   "metadata": {},
   "outputs": [
    {
     "data": {
      "text/html": [
       "<div>\n",
       "<style scoped>\n",
       "    .dataframe tbody tr th:only-of-type {\n",
       "        vertical-align: middle;\n",
       "    }\n",
       "\n",
       "    .dataframe tbody tr th {\n",
       "        vertical-align: top;\n",
       "    }\n",
       "\n",
       "    .dataframe thead th {\n",
       "        text-align: right;\n",
       "    }\n",
       "</style>\n",
       "<table border=\"1\" class=\"dataframe\">\n",
       "  <thead>\n",
       "    <tr style=\"text-align: right;\">\n",
       "      <th></th>\n",
       "      <th>High</th>\n",
       "      <th>Low</th>\n",
       "      <th>Open</th>\n",
       "      <th>Close</th>\n",
       "      <th>Volume</th>\n",
       "      <th>Adj Close</th>\n",
       "    </tr>\n",
       "    <tr>\n",
       "      <th>Date</th>\n",
       "      <th></th>\n",
       "      <th></th>\n",
       "      <th></th>\n",
       "      <th></th>\n",
       "      <th></th>\n",
       "      <th></th>\n",
       "    </tr>\n",
       "  </thead>\n",
       "  <tbody>\n",
       "    <tr>\n",
       "      <th>2020-07-13</th>\n",
       "      <td>215.800003</td>\n",
       "      <td>206.500000</td>\n",
       "      <td>214.479996</td>\n",
       "      <td>207.070007</td>\n",
       "      <td>38135600.0</td>\n",
       "      <td>207.070007</td>\n",
       "    </tr>\n",
       "    <tr>\n",
       "      <th>2020-07-14</th>\n",
       "      <td>208.850006</td>\n",
       "      <td>202.029999</td>\n",
       "      <td>206.130005</td>\n",
       "      <td>208.350006</td>\n",
       "      <td>37591800.0</td>\n",
       "      <td>208.350006</td>\n",
       "    </tr>\n",
       "    <tr>\n",
       "      <th>2020-07-15</th>\n",
       "      <td>211.330002</td>\n",
       "      <td>205.029999</td>\n",
       "      <td>209.559998</td>\n",
       "      <td>208.039993</td>\n",
       "      <td>32179400.0</td>\n",
       "      <td>208.039993</td>\n",
       "    </tr>\n",
       "    <tr>\n",
       "      <th>2020-07-16</th>\n",
       "      <td>205.699997</td>\n",
       "      <td>202.309998</td>\n",
       "      <td>205.399994</td>\n",
       "      <td>203.919998</td>\n",
       "      <td>29940700.0</td>\n",
       "      <td>203.919998</td>\n",
       "    </tr>\n",
       "    <tr>\n",
       "      <th>2020-07-17</th>\n",
       "      <td>205.039993</td>\n",
       "      <td>201.389999</td>\n",
       "      <td>204.470001</td>\n",
       "      <td>202.880005</td>\n",
       "      <td>31588600.0</td>\n",
       "      <td>202.880005</td>\n",
       "    </tr>\n",
       "  </tbody>\n",
       "</table>\n",
       "</div>"
      ],
      "text/plain": [
       "                  High         Low        Open       Close      Volume  \\\n",
       "Date                                                                     \n",
       "2020-07-13  215.800003  206.500000  214.479996  207.070007  38135600.0   \n",
       "2020-07-14  208.850006  202.029999  206.130005  208.350006  37591800.0   \n",
       "2020-07-15  211.330002  205.029999  209.559998  208.039993  32179400.0   \n",
       "2020-07-16  205.699997  202.309998  205.399994  203.919998  29940700.0   \n",
       "2020-07-17  205.039993  201.389999  204.470001  202.880005  31588600.0   \n",
       "\n",
       "             Adj Close  \n",
       "Date                    \n",
       "2020-07-13  207.070007  \n",
       "2020-07-14  208.350006  \n",
       "2020-07-15  208.039993  \n",
       "2020-07-16  203.919998  \n",
       "2020-07-17  202.880005  "
      ]
     },
     "execution_count": 2,
     "metadata": {},
     "output_type": "execute_result"
    }
   ],
   "source": [
    "start = datetime.date.today() - datetime.timedelta(days=20*365)\n",
    "ohlcv = web.DataReader('MSFT', 'yahoo', start).dropna(axis=0)\n",
    "ohlcv.tail()"
   ]
  },
  {
   "cell_type": "markdown",
   "metadata": {},
   "source": [
    "## 騰落率に変換する(定常化)"
   ]
  },
  {
   "cell_type": "code",
   "execution_count": 3,
   "metadata": {},
   "outputs": [
    {
     "data": {
      "text/html": [
       "<div>\n",
       "<style scoped>\n",
       "    .dataframe tbody tr th:only-of-type {\n",
       "        vertical-align: middle;\n",
       "    }\n",
       "\n",
       "    .dataframe tbody tr th {\n",
       "        vertical-align: top;\n",
       "    }\n",
       "\n",
       "    .dataframe thead th {\n",
       "        text-align: right;\n",
       "    }\n",
       "</style>\n",
       "<table border=\"1\" class=\"dataframe\">\n",
       "  <thead>\n",
       "    <tr style=\"text-align: right;\">\n",
       "      <th></th>\n",
       "      <th>High</th>\n",
       "      <th>Low</th>\n",
       "      <th>Open</th>\n",
       "      <th>Close</th>\n",
       "      <th>Volume</th>\n",
       "      <th>Adj Close</th>\n",
       "    </tr>\n",
       "    <tr>\n",
       "      <th>Date</th>\n",
       "      <th></th>\n",
       "      <th></th>\n",
       "      <th></th>\n",
       "      <th></th>\n",
       "      <th></th>\n",
       "      <th></th>\n",
       "    </tr>\n",
       "  </thead>\n",
       "  <tbody>\n",
       "    <tr>\n",
       "      <th>2020-07-13</th>\n",
       "      <td>0.008034</td>\n",
       "      <td>-0.021698</td>\n",
       "      <td>0.004026</td>\n",
       "      <td>-0.030889</td>\n",
       "      <td>0.456803</td>\n",
       "      <td>-0.030889</td>\n",
       "    </tr>\n",
       "    <tr>\n",
       "      <th>2020-07-14</th>\n",
       "      <td>-0.032206</td>\n",
       "      <td>-0.021646</td>\n",
       "      <td>-0.038931</td>\n",
       "      <td>0.006181</td>\n",
       "      <td>-0.014260</td>\n",
       "      <td>0.006181</td>\n",
       "    </tr>\n",
       "    <tr>\n",
       "      <th>2020-07-15</th>\n",
       "      <td>0.011875</td>\n",
       "      <td>0.014849</td>\n",
       "      <td>0.016640</td>\n",
       "      <td>-0.001488</td>\n",
       "      <td>-0.143978</td>\n",
       "      <td>-0.001488</td>\n",
       "    </tr>\n",
       "    <tr>\n",
       "      <th>2020-07-16</th>\n",
       "      <td>-0.026641</td>\n",
       "      <td>-0.013266</td>\n",
       "      <td>-0.019851</td>\n",
       "      <td>-0.019804</td>\n",
       "      <td>-0.069569</td>\n",
       "      <td>-0.019804</td>\n",
       "    </tr>\n",
       "    <tr>\n",
       "      <th>2020-07-17</th>\n",
       "      <td>-0.003209</td>\n",
       "      <td>-0.004547</td>\n",
       "      <td>-0.004528</td>\n",
       "      <td>-0.005100</td>\n",
       "      <td>0.055039</td>\n",
       "      <td>-0.005100</td>\n",
       "    </tr>\n",
       "  </tbody>\n",
       "</table>\n",
       "</div>"
      ],
      "text/plain": [
       "                High       Low      Open     Close    Volume  Adj Close\n",
       "Date                                                                   \n",
       "2020-07-13  0.008034 -0.021698  0.004026 -0.030889  0.456803  -0.030889\n",
       "2020-07-14 -0.032206 -0.021646 -0.038931  0.006181 -0.014260   0.006181\n",
       "2020-07-15  0.011875  0.014849  0.016640 -0.001488 -0.143978  -0.001488\n",
       "2020-07-16 -0.026641 -0.013266 -0.019851 -0.019804 -0.069569  -0.019804\n",
       "2020-07-17 -0.003209 -0.004547 -0.004528 -0.005100  0.055039  -0.005100"
      ]
     },
     "execution_count": 3,
     "metadata": {},
     "output_type": "execute_result"
    }
   ],
   "source": [
    "data = ohlcv.copy()\n",
    "data = data.pct_change().dropna(axis=0)\n",
    "data.tail()"
   ]
  },
  {
   "cell_type": "markdown",
   "metadata": {},
   "source": [
    "## 計算スピード向上のためnumpy化"
   ]
  },
  {
   "cell_type": "code",
   "execution_count": 4,
   "metadata": {},
   "outputs": [
    {
     "name": "stdout",
     "output_type": "stream",
     "text": [
      "(5027, 4)\n"
     ]
    }
   ],
   "source": [
    "data = data.values[:, 0:4]\n",
    "print(data.shape)"
   ]
  },
  {
   "cell_type": "code",
   "execution_count": 5,
   "metadata": {},
   "outputs": [
    {
     "name": "stdout",
     "output_type": "stream",
     "text": [
      "[[-0.01559792 -0.02321429 -0.01734605 -0.02214349]\n",
      " [-0.02112676 -0.01645338 -0.02471315 -0.01721014]\n",
      " [ 0.00899281  0.00371747 -0.01719457  0.02304147]\n",
      " [ 0.02406417  0.03148148  0.04511971  0.0045045 ]\n",
      " [-0.00957354 -0.005386   -0.01057269  0.00179372]\n",
      " [-0.01493849 -0.01534296 -0.00356189 -0.01611459]]\n"
     ]
    }
   ],
   "source": [
    "print(data[:6, :])"
   ]
  },
  {
   "cell_type": "markdown",
   "metadata": {},
   "source": [
    "## future_days日後の終値変動率を予測\n",
    "yに結果として終値を格納し、Xに予測用のデータを格納する。"
   ]
  },
  {
   "cell_type": "code",
   "execution_count": 6,
   "metadata": {},
   "outputs": [
    {
     "name": "stdout",
     "output_type": "stream",
     "text": [
      "(5026,)\n",
      "(5026, 4)\n"
     ]
    }
   ],
   "source": [
    "future_days = 1\n",
    "y = data[future_days:, 3]\n",
    "print(y.shape)\n",
    "X = data[:len(data) - future_days, :]\n",
    "print(X.shape)"
   ]
  },
  {
   "cell_type": "markdown",
   "metadata": {},
   "source": [
    "## 入力層の準備\n",
    "time_steps日分のデータで予測する"
   ]
  },
  {
   "cell_type": "code",
   "execution_count": 7,
   "metadata": {},
   "outputs": [
    {
     "name": "stdout",
     "output_type": "stream",
     "text": [
      "(4927, 100, 4) (4927, 1)\n"
     ]
    }
   ],
   "source": [
    "time_steps = 100\n",
    "X_new = np.zeros((X.shape[0] - time_steps + 1, time_steps, X.shape[1]))\n",
    "y_new = np.zeros((y.shape[0] - time_steps + 1, 1))\n",
    "for ix in range(X_new.shape[0]):\n",
    "    for jx in range(time_steps):\n",
    "        X_new[ix, jx, :] = X[ix + jx, :]\n",
    "    y_new[ix] = y[ix + time_steps -1]\n",
    "print(X_new.shape, y_new.shape)"
   ]
  },
  {
   "cell_type": "markdown",
   "metadata": {},
   "source": [
    "## ホールドアウト法で学習用とテスト用のデータを分離する"
   ]
  },
  {
   "cell_type": "code",
   "execution_count": 8,
   "metadata": {},
   "outputs": [
    {
     "name": "stdout",
     "output_type": "stream",
     "text": [
      "(4021, 100, 4) (4021, 1)\n",
      "(906, 100, 4) (906, 1)\n"
     ]
    }
   ],
   "source": [
    "split = int(0.8 * data.shape[0])\n",
    "X_train = X_new[:split]\n",
    "X_test = X_new[split:]\n",
    "\n",
    "y_train = y_new[:split]\n",
    "y_test = y_new[split:]\n",
    "\n",
    "print(X_train.shape, y_train.shape)\n",
    "print(X_test.shape, y_test.shape)"
   ]
  },
  {
   "cell_type": "markdown",
   "metadata": {},
   "source": [
    "## モデル作成"
   ]
  },
  {
   "cell_type": "code",
   "execution_count": 9,
   "metadata": {},
   "outputs": [
    {
     "name": "stdout",
     "output_type": "stream",
     "text": [
      "Model: \"sequential\"\n",
      "_________________________________________________________________\n",
      "Layer (type)                 Output Shape              Param #   \n",
      "=================================================================\n",
      "conv1d (Conv1D)              (None, 100, 64)           832       \n",
      "_________________________________________________________________\n",
      "max_pooling1d (MaxPooling1D) (None, 50, 64)            0         \n",
      "_________________________________________________________________\n",
      "lstm (LSTM)                  (None, 50, 100)           66000     \n",
      "_________________________________________________________________\n",
      "dropout (Dropout)            (None, 50, 100)           0         \n",
      "_________________________________________________________________\n",
      "conv1d_1 (Conv1D)            (None, 50, 32)            9632      \n",
      "_________________________________________________________________\n",
      "max_pooling1d_1 (MaxPooling1 (None, 25, 32)            0         \n",
      "_________________________________________________________________\n",
      "flatten (Flatten)            (None, 800)               0         \n",
      "_________________________________________________________________\n",
      "dense (Dense)                (None, 1)                 801       \n",
      "_________________________________________________________________\n",
      "activation (Activation)      (None, 1)                 0         \n",
      "=================================================================\n",
      "Total params: 77,265\n",
      "Trainable params: 77,265\n",
      "Non-trainable params: 0\n",
      "_________________________________________________________________\n"
     ]
    }
   ],
   "source": [
    "model = Sequential()\n",
    "\n",
    "model.add(Conv1D(64, 3, input_shape=(X_train.shape[1], X_train.shape[2]), padding=\"same\"))\n",
    "model.add(MaxPooling1D(pool_size=2))\n",
    "model.add(LSTM(100, return_sequences=True))\n",
    "model.add(Dropout(0.2))\n",
    "model.add(Conv1D(32, 3, padding=\"same\"))\n",
    "model.add(MaxPooling1D(pool_size=2))\n",
    "model.add(Flatten())\n",
    "model.add(Dense(units=1))\n",
    "model.add(Activation('linear'))\n",
    "\n",
    "model.summary()"
   ]
  },
  {
   "cell_type": "markdown",
   "metadata": {},
   "source": [
    "## 訓練過程の設定\n",
    "最適化アルゴリズムにAdamを採用する。"
   ]
  },
  {
   "cell_type": "code",
   "execution_count": 10,
   "metadata": {},
   "outputs": [],
   "source": [
    "model.compile(loss='mse', optimizer='adam', metrics=['acc', 'mae'])"
   ]
  },
  {
   "cell_type": "markdown",
   "metadata": {},
   "source": [
    "## 学習を開始する\n",
    "EarlyStoppingを利用し、過学習の状態となったら自動的に終了する。"
   ]
  },
  {
   "cell_type": "code",
   "execution_count": 11,
   "metadata": {},
   "outputs": [
    {
     "name": "stdout",
     "output_type": "stream",
     "text": [
      "Epoch 1/100\n",
      "16/16 - 1s - loss: 4.4429e-04 - acc: 0.0124 - mae: 0.0151 - val_loss: 3.5215e-04 - val_acc: 0.0099 - val_mae: 0.0126\n",
      "Epoch 2/100\n",
      "16/16 - 0s - loss: 3.5184e-04 - acc: 0.0124 - mae: 0.0127 - val_loss: 3.2249e-04 - val_acc: 0.0099 - val_mae: 0.0114\n",
      "Epoch 3/100\n",
      "16/16 - 0s - loss: 3.4907e-04 - acc: 0.0124 - mae: 0.0126 - val_loss: 3.2212e-04 - val_acc: 0.0099 - val_mae: 0.0114\n",
      "Epoch 4/100\n",
      "16/16 - 0s - loss: 3.4694e-04 - acc: 0.0124 - mae: 0.0126 - val_loss: 3.2662e-04 - val_acc: 0.0099 - val_mae: 0.0116\n",
      "Epoch 5/100\n",
      "16/16 - 0s - loss: 3.4621e-04 - acc: 0.0124 - mae: 0.0126 - val_loss: 3.2102e-04 - val_acc: 0.0099 - val_mae: 0.0114\n",
      "Epoch 6/100\n",
      "16/16 - 0s - loss: 3.4086e-04 - acc: 0.0124 - mae: 0.0125 - val_loss: 3.2196e-04 - val_acc: 0.0099 - val_mae: 0.0114\n",
      "Epoch 7/100\n",
      "16/16 - 0s - loss: 3.4409e-04 - acc: 0.0124 - mae: 0.0126 - val_loss: 3.2174e-04 - val_acc: 0.0099 - val_mae: 0.0114\n",
      "Epoch 8/100\n",
      "16/16 - 0s - loss: 3.4085e-04 - acc: 0.0124 - mae: 0.0125 - val_loss: 3.2848e-04 - val_acc: 0.0099 - val_mae: 0.0117\n",
      "Epoch 9/100\n",
      "16/16 - 0s - loss: 3.4190e-04 - acc: 0.0124 - mae: 0.0125 - val_loss: 3.2181e-04 - val_acc: 0.0099 - val_mae: 0.0114\n",
      "Epoch 10/100\n",
      "16/16 - 0s - loss: 3.4047e-04 - acc: 0.0124 - mae: 0.0125 - val_loss: 3.2074e-04 - val_acc: 0.0099 - val_mae: 0.0113\n",
      "Epoch 11/100\n",
      "16/16 - 0s - loss: 3.3833e-04 - acc: 0.0124 - mae: 0.0125 - val_loss: 3.2265e-04 - val_acc: 0.0099 - val_mae: 0.0114\n",
      "Epoch 12/100\n",
      "16/16 - 0s - loss: 3.3684e-04 - acc: 0.0124 - mae: 0.0125 - val_loss: 3.2217e-04 - val_acc: 0.0099 - val_mae: 0.0114\n",
      "Epoch 13/100\n",
      "16/16 - 0s - loss: 3.3761e-04 - acc: 0.0124 - mae: 0.0126 - val_loss: 3.2238e-04 - val_acc: 0.0099 - val_mae: 0.0114\n",
      "Epoch 14/100\n",
      "16/16 - 0s - loss: 3.3570e-04 - acc: 0.0124 - mae: 0.0125 - val_loss: 3.2456e-04 - val_acc: 0.0099 - val_mae: 0.0114\n",
      "Epoch 15/100\n",
      "16/16 - 0s - loss: 3.3307e-04 - acc: 0.0124 - mae: 0.0125 - val_loss: 3.2389e-04 - val_acc: 0.0099 - val_mae: 0.0114\n",
      "Epoch 16/100\n",
      "16/16 - 0s - loss: 3.3123e-04 - acc: 0.0124 - mae: 0.0124 - val_loss: 3.2709e-04 - val_acc: 0.0099 - val_mae: 0.0115\n",
      "Epoch 17/100\n",
      "16/16 - 0s - loss: 3.2901e-04 - acc: 0.0124 - mae: 0.0124 - val_loss: 3.2406e-04 - val_acc: 0.0099 - val_mae: 0.0114\n",
      "Epoch 18/100\n",
      "16/16 - 0s - loss: 3.3014e-04 - acc: 0.0124 - mae: 0.0125 - val_loss: 3.2420e-04 - val_acc: 0.0099 - val_mae: 0.0114\n",
      "Epoch 19/100\n",
      "16/16 - 0s - loss: 3.2659e-04 - acc: 0.0124 - mae: 0.0124 - val_loss: 3.2544e-04 - val_acc: 0.0099 - val_mae: 0.0115\n",
      "Epoch 20/100\n",
      "16/16 - 0s - loss: 3.2474e-04 - acc: 0.0124 - mae: 0.0124 - val_loss: 3.2951e-04 - val_acc: 0.0099 - val_mae: 0.0116\n",
      "Epoch 00020: early stopping\n"
     ]
    }
   ],
   "source": [
    "es_cb = EarlyStopping(monitor='val_loss', patience=10, verbose=1, mode='auto')\n",
    "history = model.fit(X_train, y_train, batch_size=256, epochs=100, validation_data=(X_test, y_test), callbacks=[es_cb], verbose=2)"
   ]
  },
  {
   "cell_type": "markdown",
   "metadata": {},
   "source": [
    "## 学習の進み具合を可視化\n",
    "学習した結果lossとテストデータのval_lossが収束している事がわかる"
   ]
  },
  {
   "cell_type": "code",
   "execution_count": 12,
   "metadata": {},
   "outputs": [
    {
     "data": {
      "image/png": "[encoded data removed]",
      "text/plain": [
       "<Figure size 432x288 with 1 Axes>"
      ]
     },
     "metadata": {},
     "output_type": "display_data"
    }
   ],
   "source": [
    "plt.plot(range(len(history.history['loss'])), history.history['loss'], label='loss')\n",
    "plt.plot(range(len(history.history['loss'])), history.history['val_loss'], label='val_loss')\n",
    "plt.xlabel('epoch')\n",
    "plt.ylabel('loss')\n",
    "plt.legend() \n",
    "plt.show()"
   ]
  },
  {
   "cell_type": "markdown",
   "metadata": {},
   "source": [
    "## テストデータで学習結果を評価する"
   ]
  },
  {
   "cell_type": "code",
   "execution_count": 13,
   "metadata": {},
   "outputs": [
    {
     "name": "stdout",
     "output_type": "stream",
     "text": [
      "4/4 [==============================] - 0s 4ms/step - loss: 3.2951e-04 - acc: 0.0099 - mae: 0.0116\n",
      "loss: 0.00032950841705314815\n",
      "acc: 0.009933775290846825\n",
      "mae: 0.01163540966808796\n"
     ]
    }
   ],
   "source": [
    "score = model.evaluate(X_test, y_test, batch_size=256)\n",
    "print('loss:', score[0])\n",
    "print('acc:', score[1])\n",
    "print('mae:', score[2])"
   ]
  },
  {
   "cell_type": "markdown",
   "metadata": {},
   "source": [
    "## テストデータの予測結果(y_pred)を作成する"
   ]
  },
  {
   "cell_type": "code",
   "execution_count": 14,
   "metadata": {},
   "outputs": [],
   "source": [
    "y_pred = model.predict(X_test)"
   ]
  },
  {
   "cell_type": "markdown",
   "metadata": {},
   "source": [
    "## 騰落率を価格変動に変換する(非定常過程の復元)"
   ]
  },
  {
   "cell_type": "code",
   "execution_count": 15,
   "metadata": {},
   "outputs": [],
   "source": [
    "pred = []\n",
    "pred.append(float(1 * (1 + y_pred[0])))\n",
    "i = 1\n",
    "while(i < len(y_pred)):\n",
    "    pred.append(float(pred[i-1] * (1 + y_pred[i])))\n",
    "    i = i + 1\n",
    "test = []\n",
    "test.append(float(1 * (1 + y_test[0])))\n",
    "i = 1\n",
    "while(i < len(y_test)):\n",
    "    test.append(float(test[i-1] * (1 + y_test[i])))\n",
    "    i = i + 1"
   ]
  },
  {
   "cell_type": "markdown",
   "metadata": {},
   "source": [
    "## テストデータの結果"
   ]
  },
  {
   "cell_type": "code",
   "execution_count": 16,
   "metadata": {},
   "outputs": [
    {
     "data": {
      "image/png": "[encoded data removed]",
      "text/plain": [
       "<Figure size 432x288 with 1 Axes>"
      ]
     },
     "metadata": {},
     "output_type": "display_data"
    }
   ],
   "source": [
    "plt.plot(pred, label='pred')\n",
    "plt.plot(test, label='test')\n",
    "plt.legend() \n",
    "plt.show()"
   ]
  },
  {
   "cell_type": "code",
   "execution_count": 17,
   "metadata": {},
   "outputs": [
    {
     "name": "stdout",
     "output_type": "stream",
     "text": [
      "相関係数: 0.03767002475629666\n"
     ]
    },
    {
     "data": {
      "image/png": "[encoded data removed]",
      "text/plain": [
       "<Figure size 432x288 with 1 Axes>"
      ]
     },
     "metadata": {},
     "output_type": "display_data"
    }
   ],
   "source": [
    "print(f'相関係数: {np.corrcoef(np.ravel(y_pred), np.ravel(y_test))[0,1]}')\n",
    "plt.plot (y_pred, y_test, 'bo')\n",
    "plt.xlabel('pred')\n",
    "plt.ylabel('test')\n",
    "plt.show()"
   ]
  },
  {
   "cell_type": "markdown",
   "metadata": {},
   "source": [
    "## テストデータの騰落正答率"
   ]
  },
  {
   "cell_type": "code",
   "execution_count": 18,
   "metadata": {},
   "outputs": [
    {
     "name": "stdout",
     "output_type": "stream",
     "text": [
      "score: 0.5204419889502763\n"
     ]
    }
   ],
   "source": [
    "data_score = 0\n",
    "for i in range(y_pred.shape[0] - 1):\n",
    "    if y_pred[i] > 0 and y_test[i] > 0:\n",
    "        data_score += 1\n",
    "    elif y_pred[i] < 0 and y_test[i] < 0:\n",
    "        data_score += 1\n",
    "print(\"score: {}\".format(data_score / (y_pred.shape[0] - 1)))"
   ]
  },
  {
   "cell_type": "markdown",
   "metadata": {},
   "source": [
    "## おわりに\n",
    "この簡単なモデルでは騰落の正答率が52%と実際のトレードに利用するには難しい事がわかりました。  \n",
    "がっかりさせてしまったかもしれませんが、機械学習をトレードに利用する事は簡単ではありません。  \n",
    "ただ、機械学習を利用して収益を上げている方もいらっしゃいますので、このノートブックが貴方の第一歩になれば幸いです。  "
   ]
  },
  {
   "cell_type": "code",
   "execution_count": null,
   "metadata": {},
   "outputs": [],
   "source": []
  }
 ],
 "metadata": {
  "kernelspec": {
   "display_name": "Python 3",
   "language": "python",
   "name": "python3"
  },
  "language_info": {
   "codemirror_mode": {
    "name": "ipython",
    "version": 3
   },
   "file_extension": ".py",
   "mimetype": "text/x-python",
   "name": "python",
   "nbconvert_exporter": "python",
   "pygments_lexer": "ipython3",
   "version": "3.6.8"
  }
 },
 "nbformat": 4,
 "nbformat_minor": 4
}
