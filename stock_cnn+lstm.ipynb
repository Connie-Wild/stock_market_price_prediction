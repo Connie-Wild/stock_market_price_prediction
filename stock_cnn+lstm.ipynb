{
 "cells": [
  {
   "cell_type": "code",
   "execution_count": 1,
   "metadata": {},
   "outputs": [],
   "source": [
    "import datetime\n",
    "import numpy as np\n",
    "import pandas as pd\n",
    "import tensorflow as tf\n",
    "from tensorflow.keras.layers import Dense, Dropout, Activation, LSTM, Conv1D, MaxPooling1D, Flatten\n",
    "from tensorflow.keras.models import Sequential\n",
    "from tensorflow.keras.callbacks import EarlyStopping\n",
    "import matplotlib.pyplot as plt\n",
    "import pandas_datareader.data as web\n",
    "%matplotlib inline"
   ]
  },
  {
   "cell_type": "markdown",
   "metadata": {},
   "source": [
    "## データの準備\n",
    "pandas_datareaderを利用してyahooファイナンスから価格を取得する"
   ]
  },
  {
   "cell_type": "code",
   "execution_count": 2,
   "metadata": {},
   "outputs": [
    {
     "data": {
      "text/html": [
       "<div>\n",
       "<style scoped>\n",
       "    .dataframe tbody tr th:only-of-type {\n",
       "        vertical-align: middle;\n",
       "    }\n",
       "\n",
       "    .dataframe tbody tr th {\n",
       "        vertical-align: top;\n",
       "    }\n",
       "\n",
       "    .dataframe thead th {\n",
       "        text-align: right;\n",
       "    }\n",
       "</style>\n",
       "<table border=\"1\" class=\"dataframe\">\n",
       "  <thead>\n",
       "    <tr style=\"text-align: right;\">\n",
       "      <th></th>\n",
       "      <th>High</th>\n",
       "      <th>Low</th>\n",
       "      <th>Open</th>\n",
       "      <th>Close</th>\n",
       "      <th>Volume</th>\n",
       "      <th>Adj Close</th>\n",
       "    </tr>\n",
       "    <tr>\n",
       "      <th>Date</th>\n",
       "      <th></th>\n",
       "      <th></th>\n",
       "      <th></th>\n",
       "      <th></th>\n",
       "      <th></th>\n",
       "      <th></th>\n",
       "    </tr>\n",
       "  </thead>\n",
       "  <tbody>\n",
       "    <tr>\n",
       "      <th>2020-07-30</th>\n",
       "      <td>204.460007</td>\n",
       "      <td>199.570007</td>\n",
       "      <td>201.000000</td>\n",
       "      <td>203.899994</td>\n",
       "      <td>25079600.0</td>\n",
       "      <td>203.899994</td>\n",
       "    </tr>\n",
       "    <tr>\n",
       "      <th>2020-07-31</th>\n",
       "      <td>205.100006</td>\n",
       "      <td>199.009995</td>\n",
       "      <td>204.399994</td>\n",
       "      <td>205.009995</td>\n",
       "      <td>51248000.0</td>\n",
       "      <td>205.009995</td>\n",
       "    </tr>\n",
       "    <tr>\n",
       "      <th>2020-08-03</th>\n",
       "      <td>217.639999</td>\n",
       "      <td>210.440002</td>\n",
       "      <td>211.520004</td>\n",
       "      <td>216.539993</td>\n",
       "      <td>78983000.0</td>\n",
       "      <td>216.539993</td>\n",
       "    </tr>\n",
       "    <tr>\n",
       "      <th>2020-08-04</th>\n",
       "      <td>214.770004</td>\n",
       "      <td>210.309998</td>\n",
       "      <td>214.169998</td>\n",
       "      <td>213.289993</td>\n",
       "      <td>49245300.0</td>\n",
       "      <td>213.289993</td>\n",
       "    </tr>\n",
       "    <tr>\n",
       "      <th>2020-08-05</th>\n",
       "      <td>215.000000</td>\n",
       "      <td>212.074997</td>\n",
       "      <td>214.899994</td>\n",
       "      <td>212.695007</td>\n",
       "      <td>14942547.0</td>\n",
       "      <td>212.695007</td>\n",
       "    </tr>\n",
       "  </tbody>\n",
       "</table>\n",
       "</div>"
      ],
      "text/plain": [
       "                  High         Low        Open       Close      Volume  \\\n",
       "Date                                                                     \n",
       "2020-07-30  204.460007  199.570007  201.000000  203.899994  25079600.0   \n",
       "2020-07-31  205.100006  199.009995  204.399994  205.009995  51248000.0   \n",
       "2020-08-03  217.639999  210.440002  211.520004  216.539993  78983000.0   \n",
       "2020-08-04  214.770004  210.309998  214.169998  213.289993  49245300.0   \n",
       "2020-08-05  215.000000  212.074997  214.899994  212.695007  14942547.0   \n",
       "\n",
       "             Adj Close  \n",
       "Date                    \n",
       "2020-07-30  203.899994  \n",
       "2020-07-31  205.009995  \n",
       "2020-08-03  216.539993  \n",
       "2020-08-04  213.289993  \n",
       "2020-08-05  212.695007  "
      ]
     },
     "execution_count": 2,
     "metadata": {},
     "output_type": "execute_result"
    }
   ],
   "source": [
    "start = datetime.date.today() - datetime.timedelta(days=20*365)\n",
    "ohlcv = web.DataReader('MSFT', 'yahoo', start).dropna(axis=0)\n",
    "ohlcv.tail()"
   ]
  },
  {
   "cell_type": "markdown",
   "metadata": {},
   "source": [
    "## 騰落率に変換する(定常化)\n",
    "調整後終値(Adj Close)に合わせて、高値安値始値も調整します。  \n",
    "調整後終値については[こちら](https://support.yahoo-net.jp/PccFinance/s/article/H000006678)を参照して下さい。"
   ]
  },
  {
   "cell_type": "code",
   "execution_count": 3,
   "metadata": {},
   "outputs": [
    {
     "data": {
      "text/html": [
       "<div>\n",
       "<style scoped>\n",
       "    .dataframe tbody tr th:only-of-type {\n",
       "        vertical-align: middle;\n",
       "    }\n",
       "\n",
       "    .dataframe tbody tr th {\n",
       "        vertical-align: top;\n",
       "    }\n",
       "\n",
       "    .dataframe thead th {\n",
       "        text-align: right;\n",
       "    }\n",
       "</style>\n",
       "<table border=\"1\" class=\"dataframe\">\n",
       "  <thead>\n",
       "    <tr style=\"text-align: right;\">\n",
       "      <th></th>\n",
       "      <th>Adj_High</th>\n",
       "      <th>Adj_Low</th>\n",
       "      <th>Adj_Open</th>\n",
       "      <th>Adj_Close</th>\n",
       "    </tr>\n",
       "    <tr>\n",
       "      <th>Date</th>\n",
       "      <th></th>\n",
       "      <th></th>\n",
       "      <th></th>\n",
       "      <th></th>\n",
       "    </tr>\n",
       "  </thead>\n",
       "  <tbody>\n",
       "    <tr>\n",
       "      <th>2020-07-30</th>\n",
       "      <td>-0.000928</td>\n",
       "      <td>-0.012079</td>\n",
       "      <td>-0.007407</td>\n",
       "      <td>-0.000784</td>\n",
       "    </tr>\n",
       "    <tr>\n",
       "      <th>2020-07-31</th>\n",
       "      <td>0.003130</td>\n",
       "      <td>-0.002806</td>\n",
       "      <td>0.016915</td>\n",
       "      <td>0.005444</td>\n",
       "    </tr>\n",
       "    <tr>\n",
       "      <th>2020-08-03</th>\n",
       "      <td>0.061141</td>\n",
       "      <td>0.057434</td>\n",
       "      <td>0.034834</td>\n",
       "      <td>0.056241</td>\n",
       "    </tr>\n",
       "    <tr>\n",
       "      <th>2020-08-04</th>\n",
       "      <td>-0.013187</td>\n",
       "      <td>-0.000618</td>\n",
       "      <td>0.012528</td>\n",
       "      <td>-0.015009</td>\n",
       "    </tr>\n",
       "    <tr>\n",
       "      <th>2020-08-05</th>\n",
       "      <td>0.001071</td>\n",
       "      <td>0.008392</td>\n",
       "      <td>0.003408</td>\n",
       "      <td>-0.002790</td>\n",
       "    </tr>\n",
       "  </tbody>\n",
       "</table>\n",
       "</div>"
      ],
      "text/plain": [
       "            Adj_High   Adj_Low  Adj_Open  Adj_Close\n",
       "Date                                               \n",
       "2020-07-30 -0.000928 -0.012079 -0.007407  -0.000784\n",
       "2020-07-31  0.003130 -0.002806  0.016915   0.005444\n",
       "2020-08-03  0.061141  0.057434  0.034834   0.056241\n",
       "2020-08-04 -0.013187 -0.000618  0.012528  -0.015009\n",
       "2020-08-05  0.001071  0.008392  0.003408  -0.002790"
      ]
     },
     "execution_count": 3,
     "metadata": {},
     "output_type": "execute_result"
    }
   ],
   "source": [
    "data = pd.DataFrame(index=ohlcv.index, columns=[])\n",
    "data['Adj_High'] = ohlcv['High'] * ohlcv['Adj Close'] / ohlcv['Close']\n",
    "data['Adj_Low'] = ohlcv['Low'] * ohlcv['Adj Close'] / ohlcv['Close']\n",
    "data['Adj_Open'] = ohlcv['Open'] * ohlcv['Adj Close'] / ohlcv['Close']\n",
    "data['Adj_Close'] = ohlcv['Adj Close']\n",
    "data = data.pct_change().dropna(axis=0)\n",
    "data.tail()"
   ]
  },
  {
   "cell_type": "markdown",
   "metadata": {},
   "source": [
    "## 計算スピード向上のためnumpy化"
   ]
  },
  {
   "cell_type": "code",
   "execution_count": 4,
   "metadata": {},
   "outputs": [
    {
     "name": "stdout",
     "output_type": "stream",
     "text": [
      "(5027, 4)\n"
     ]
    }
   ],
   "source": [
    "data = data.values\n",
    "print(data.shape)"
   ]
  },
  {
   "cell_type": "code",
   "execution_count": 5,
   "metadata": {},
   "outputs": [
    {
     "name": "stdout",
     "output_type": "stream",
     "text": [
      "[[-1.85651925e-02 -1.74194836e-03 -1.86280728e-02 -2.58154386e-03]\n",
      " [ 9.45883508e-03 -3.48987072e-03 -1.72509392e-03 -3.45072038e-03]\n",
      " [-5.11107972e-03  1.75096391e-03 -4.32186863e-03 -7.79255403e-03]\n",
      " [-1.02742520e-02 -1.31121667e-02 -1.73639288e-03 -8.72628328e-03]\n",
      " [-3.46010368e-03  1.04288388e-07 -1.04346794e-02  7.92264033e-03]\n",
      " [-7.81260347e-03 -7.97175979e-03 -1.04288377e-07 -7.86036548e-03]]\n"
     ]
    }
   ],
   "source": [
    "print(data[:6, :])"
   ]
  },
  {
   "cell_type": "markdown",
   "metadata": {},
   "source": [
    "## future_days日後の終値変動率を予測\n",
    "yにリターンとして終値を格納し、Xに特徴量として高値、安値、始値、終値のデータを格納する。"
   ]
  },
  {
   "cell_type": "code",
   "execution_count": 6,
   "metadata": {},
   "outputs": [
    {
     "name": "stdout",
     "output_type": "stream",
     "text": [
      "(5026,)\n",
      "(5026, 4)\n"
     ]
    }
   ],
   "source": [
    "future_days = 1\n",
    "y = data[future_days:, 3]\n",
    "print(y.shape)\n",
    "X = data[:len(data) - future_days, :]\n",
    "print(X.shape)"
   ]
  },
  {
   "cell_type": "markdown",
   "metadata": {},
   "source": [
    "## 入力層の準備\n",
    "time_steps日分のデータで予測する"
   ]
  },
  {
   "cell_type": "code",
   "execution_count": 7,
   "metadata": {},
   "outputs": [
    {
     "name": "stdout",
     "output_type": "stream",
     "text": [
      "(4927, 100, 4) (4927, 1)\n"
     ]
    }
   ],
   "source": [
    "time_steps = 100\n",
    "X_new = np.zeros((X.shape[0] - time_steps + 1, time_steps, X.shape[1]))\n",
    "y_new = np.zeros((y.shape[0] - time_steps + 1, 1))\n",
    "for ix in range(X_new.shape[0]):\n",
    "    for jx in range(time_steps):\n",
    "        X_new[ix, jx, :] = X[ix + jx, :]\n",
    "    y_new[ix] = y[ix + time_steps -1]\n",
    "print(X_new.shape, y_new.shape)"
   ]
  },
  {
   "cell_type": "markdown",
   "metadata": {},
   "source": [
    "## ホールドアウト法で学習用とテスト用のデータを分離する"
   ]
  },
  {
   "cell_type": "code",
   "execution_count": 8,
   "metadata": {},
   "outputs": [
    {
     "name": "stdout",
     "output_type": "stream",
     "text": [
      "(4021, 100, 4) (4021, 1)\n",
      "(906, 100, 4) (906, 1)\n"
     ]
    }
   ],
   "source": [
    "split = int(0.8 * data.shape[0])\n",
    "X_train = X_new[:split]\n",
    "X_test = X_new[split:]\n",
    "\n",
    "y_train = y_new[:split]\n",
    "y_test = y_new[split:]\n",
    "\n",
    "print(X_train.shape, y_train.shape)\n",
    "print(X_test.shape, y_test.shape)"
   ]
  },
  {
   "cell_type": "markdown",
   "metadata": {},
   "source": [
    "## モデル作成"
   ]
  },
  {
   "cell_type": "code",
   "execution_count": 9,
   "metadata": {},
   "outputs": [
    {
     "name": "stdout",
     "output_type": "stream",
     "text": [
      "Model: \"sequential\"\n",
      "_________________________________________________________________\n",
      "Layer (type)                 Output Shape              Param #   \n",
      "=================================================================\n",
      "conv1d (Conv1D)              (None, 100, 64)           832       \n",
      "_________________________________________________________________\n",
      "max_pooling1d (MaxPooling1D) (None, 50, 64)            0         \n",
      "_________________________________________________________________\n",
      "lstm (LSTM)                  (None, 50, 100)           66000     \n",
      "_________________________________________________________________\n",
      "dropout (Dropout)            (None, 50, 100)           0         \n",
      "_________________________________________________________________\n",
      "conv1d_1 (Conv1D)            (None, 50, 32)            9632      \n",
      "_________________________________________________________________\n",
      "max_pooling1d_1 (MaxPooling1 (None, 25, 32)            0         \n",
      "_________________________________________________________________\n",
      "flatten (Flatten)            (None, 800)               0         \n",
      "_________________________________________________________________\n",
      "dense (Dense)                (None, 1)                 801       \n",
      "_________________________________________________________________\n",
      "activation (Activation)      (None, 1)                 0         \n",
      "=================================================================\n",
      "Total params: 77,265\n",
      "Trainable params: 77,265\n",
      "Non-trainable params: 0\n",
      "_________________________________________________________________\n"
     ]
    }
   ],
   "source": [
    "model = Sequential()\n",
    "\n",
    "model.add(Conv1D(64, 3, input_shape=(X_train.shape[1], X_train.shape[2]), padding=\"same\"))\n",
    "model.add(MaxPooling1D(pool_size=2))\n",
    "model.add(LSTM(100, return_sequences=True))\n",
    "model.add(Dropout(0.2))\n",
    "model.add(Conv1D(32, 3, padding=\"same\"))\n",
    "model.add(MaxPooling1D(pool_size=2))\n",
    "model.add(Flatten())\n",
    "model.add(Dense(units=1))\n",
    "model.add(Activation('tanh'))\n",
    "\n",
    "model.summary()"
   ]
  },
  {
   "cell_type": "markdown",
   "metadata": {},
   "source": [
    "## 訓練過程の設定\n",
    "最適化アルゴリズムにAdamを採用する。"
   ]
  },
  {
   "cell_type": "code",
   "execution_count": 10,
   "metadata": {},
   "outputs": [],
   "source": [
    "model.compile(loss='mse', optimizer='adam', metrics=['acc', 'mae'])"
   ]
  },
  {
   "cell_type": "markdown",
   "metadata": {},
   "source": [
    "## 学習を開始する\n",
    "EarlyStoppingを利用し、過学習の状態となったら自動的に終了する。"
   ]
  },
  {
   "cell_type": "code",
   "execution_count": 11,
   "metadata": {},
   "outputs": [
    {
     "name": "stdout",
     "output_type": "stream",
     "text": [
      "Epoch 1/100\n",
      "16/16 - 1s - loss: 4.2228e-04 - acc: 0.0124 - mae: 0.0147 - val_loss: 3.7470e-04 - val_acc: 0.0088 - val_mae: 0.0133\n",
      "Epoch 2/100\n",
      "16/16 - 0s - loss: 3.4682e-04 - acc: 0.0124 - mae: 0.0128 - val_loss: 3.3439e-04 - val_acc: 0.0088 - val_mae: 0.0117\n",
      "Epoch 3/100\n",
      "16/16 - 0s - loss: 3.3470e-04 - acc: 0.0124 - mae: 0.0125 - val_loss: 3.3121e-04 - val_acc: 0.0088 - val_mae: 0.0116\n",
      "Epoch 4/100\n",
      "16/16 - 0s - loss: 3.3273e-04 - acc: 0.0124 - mae: 0.0124 - val_loss: 3.2798e-04 - val_acc: 0.0088 - val_mae: 0.0115\n",
      "Epoch 5/100\n",
      "16/16 - 0s - loss: 3.3366e-04 - acc: 0.0124 - mae: 0.0124 - val_loss: 3.2756e-04 - val_acc: 0.0088 - val_mae: 0.0115\n",
      "Epoch 6/100\n",
      "16/16 - 0s - loss: 3.3143e-04 - acc: 0.0124 - mae: 0.0125 - val_loss: 3.2960e-04 - val_acc: 0.0088 - val_mae: 0.0116\n",
      "Epoch 7/100\n",
      "16/16 - 0s - loss: 3.2923e-04 - acc: 0.0124 - mae: 0.0124 - val_loss: 3.3105e-04 - val_acc: 0.0088 - val_mae: 0.0116\n",
      "Epoch 8/100\n",
      "16/16 - 0s - loss: 3.3099e-04 - acc: 0.0124 - mae: 0.0125 - val_loss: 3.2995e-04 - val_acc: 0.0088 - val_mae: 0.0116\n",
      "Epoch 9/100\n",
      "16/16 - 0s - loss: 3.2713e-04 - acc: 0.0124 - mae: 0.0124 - val_loss: 3.2946e-04 - val_acc: 0.0088 - val_mae: 0.0116\n",
      "Epoch 10/100\n",
      "16/16 - 0s - loss: 3.2512e-04 - acc: 0.0124 - mae: 0.0123 - val_loss: 3.2724e-04 - val_acc: 0.0088 - val_mae: 0.0115\n",
      "Epoch 11/100\n",
      "16/16 - 0s - loss: 3.2669e-04 - acc: 0.0124 - mae: 0.0123 - val_loss: 3.2713e-04 - val_acc: 0.0088 - val_mae: 0.0115\n",
      "Epoch 12/100\n",
      "16/16 - 0s - loss: 3.2434e-04 - acc: 0.0124 - mae: 0.0123 - val_loss: 3.2834e-04 - val_acc: 0.0088 - val_mae: 0.0115\n",
      "Epoch 13/100\n",
      "16/16 - 0s - loss: 3.2564e-04 - acc: 0.0124 - mae: 0.0124 - val_loss: 3.2786e-04 - val_acc: 0.0088 - val_mae: 0.0115\n",
      "Epoch 14/100\n",
      "16/16 - 0s - loss: 3.2274e-04 - acc: 0.0124 - mae: 0.0123 - val_loss: 3.2943e-04 - val_acc: 0.0088 - val_mae: 0.0115\n",
      "Epoch 15/100\n",
      "16/16 - 0s - loss: 3.2203e-04 - acc: 0.0124 - mae: 0.0123 - val_loss: 3.2965e-04 - val_acc: 0.0088 - val_mae: 0.0116\n",
      "Epoch 16/100\n",
      "16/16 - 0s - loss: 3.2078e-04 - acc: 0.0124 - mae: 0.0123 - val_loss: 3.2913e-04 - val_acc: 0.0088 - val_mae: 0.0116\n",
      "Epoch 17/100\n",
      "16/16 - 0s - loss: 3.1759e-04 - acc: 0.0124 - mae: 0.0123 - val_loss: 3.2900e-04 - val_acc: 0.0088 - val_mae: 0.0115\n",
      "Epoch 18/100\n",
      "16/16 - 0s - loss: 3.1741e-04 - acc: 0.0124 - mae: 0.0123 - val_loss: 3.3201e-04 - val_acc: 0.0088 - val_mae: 0.0117\n",
      "Epoch 19/100\n",
      "16/16 - 0s - loss: 3.1763e-04 - acc: 0.0124 - mae: 0.0123 - val_loss: 3.3186e-04 - val_acc: 0.0088 - val_mae: 0.0117\n",
      "Epoch 20/100\n",
      "16/16 - 0s - loss: 3.1618e-04 - acc: 0.0124 - mae: 0.0122 - val_loss: 3.3357e-04 - val_acc: 0.0088 - val_mae: 0.0118\n",
      "Epoch 21/100\n",
      "16/16 - 0s - loss: 3.1033e-04 - acc: 0.0124 - mae: 0.0122 - val_loss: 3.3003e-04 - val_acc: 0.0088 - val_mae: 0.0116\n",
      "Epoch 00021: early stopping\n"
     ]
    }
   ],
   "source": [
    "es_cb = EarlyStopping(monitor='val_loss', patience=10, verbose=1, mode='auto')\n",
    "history = model.fit(X_train, y_train, batch_size=256, epochs=100, validation_data=(X_test, y_test), callbacks=[es_cb], verbose=2)"
   ]
  },
  {
   "cell_type": "markdown",
   "metadata": {},
   "source": [
    "## 学習の進み具合を可視化\n",
    "学習した結果lossとテストデータのval_lossが収束している事がわかる"
   ]
  },
  {
   "cell_type": "code",
   "execution_count": 12,
   "metadata": {},
   "outputs": [
    {
     "data": {
      "image/png": "[encoded data removed]",
      "text/plain": [
       "<Figure size 432x288 with 1 Axes>"
      ]
     },
     "metadata": {},
     "output_type": "display_data"
    }
   ],
   "source": [
    "plt.plot(range(len(history.history['loss'])), history.history['loss'], label='loss')\n",
    "plt.plot(range(len(history.history['loss'])), history.history['val_loss'], label='val_loss')\n",
    "plt.xlabel('epoch')\n",
    "plt.ylabel('loss')\n",
    "plt.legend() \n",
    "plt.show()"
   ]
  },
  {
   "cell_type": "markdown",
   "metadata": {},
   "source": [
    "## テストデータで学習結果を評価する"
   ]
  },
  {
   "cell_type": "code",
   "execution_count": 13,
   "metadata": {},
   "outputs": [
    {
     "name": "stdout",
     "output_type": "stream",
     "text": [
      "4/4 [==============================] - 0s 4ms/step - loss: 3.3003e-04 - acc: 0.0088 - mae: 0.0116\n",
      "loss: 0.000330033537466079\n",
      "acc: 0.008830022066831589\n",
      "mae: 0.011581997387111187\n"
     ]
    }
   ],
   "source": [
    "score = model.evaluate(X_test, y_test, batch_size=256)\n",
    "print('loss:', score[0])\n",
    "print('acc:', score[1])\n",
    "print('mae:', score[2])"
   ]
  },
  {
   "cell_type": "markdown",
   "metadata": {},
   "source": [
    "## テストデータの予測結果(y_pred)を作成する"
   ]
  },
  {
   "cell_type": "code",
   "execution_count": 14,
   "metadata": {},
   "outputs": [],
   "source": [
    "y_pred = model.predict(X_test)"
   ]
  },
  {
   "cell_type": "markdown",
   "metadata": {},
   "source": [
    "## 予測結果の確認\n",
    "正答率、情報係数(IC)、リターンを計算します。  \n",
    "ICは0.05以上で優秀な指標、0.1以上で非常に優秀な指標となります。  \n",
    "リターンは予測が+方向なら買い、-方向なら売りを行った結果です。"
   ]
  },
  {
   "cell_type": "code",
   "execution_count": 15,
   "metadata": {},
   "outputs": [
    {
     "name": "stdout",
     "output_type": "stream",
     "text": [
      "P: 0.5381\n",
      "IC: 0.0762\n",
      "return: 256.44 %\n"
     ]
    },
    {
     "data": {
      "image/png": "[encoded data removed]",
      "text/plain": [
       "<Figure size 432x288 with 1 Axes>"
      ]
     },
     "metadata": {},
     "output_type": "display_data"
    }
   ],
   "source": [
    "profit = []\n",
    "profit.append(float(1 * (1 + y_test[0])))\n",
    "i = 1\n",
    "while(i < len(y_test)):\n",
    "    if y_pred[i] < 0:\n",
    "        profit.append(float(profit[-1] * (1 - y_test[i])))\n",
    "    else:\n",
    "        profit.append(float(profit[-1] * (1 + y_test[i])))\n",
    "    i = i + 1\n",
    "\n",
    "price = []\n",
    "price.append(float(1 * (1 + y_test[0])))\n",
    "i = 1\n",
    "while(i < len(y_test)):\n",
    "    price.append(float(price[-1] * (1 + y_test[i])))\n",
    "    i = i + 1\n",
    "\n",
    "data_score = 0\n",
    "for i in range(y_test.shape[0] - 1):\n",
    "    if y_test[i] > 0 and y_pred[i] > 0:\n",
    "        data_score += 1\n",
    "    elif y_test[i] < 0 and y_pred[i] < 0:\n",
    "        data_score += 1\n",
    "score = data_score / (y_test.shape[0] - 1)\n",
    "ic = 2 * score - 1\n",
    "\n",
    "print('P:', round(score, 4))\n",
    "print('IC:', round(ic, 4))\n",
    "print('return:', round(profit[-1]*100, 2), '%')\n",
    "plt.plot(profit, label='return')\n",
    "plt.plot(price, label='price')\n",
    "plt.legend() \n",
    "plt.show()"
   ]
  },
  {
   "cell_type": "markdown",
   "metadata": {},
   "source": [
    "## リターン(終値)と学習モデル(指標)の相関係数"
   ]
  },
  {
   "cell_type": "code",
   "execution_count": 16,
   "metadata": {},
   "outputs": [
    {
     "name": "stdout",
     "output_type": "stream",
     "text": [
      "IC: 0.06147\n"
     ]
    },
    {
     "data": {
      "image/png": "[encoded data removed]",
      "text/plain": [
       "<Figure size 432x288 with 1 Axes>"
      ]
     },
     "metadata": {},
     "output_type": "display_data"
    }
   ],
   "source": [
    "print(f'IC: {round(np.corrcoef(np.ravel(y_pred), np.ravel(y_test))[0,1], 5)}')\n",
    "plt.plot (y_pred, y_test, 'bo')\n",
    "plt.xlabel('pred')\n",
    "plt.ylabel('test')\n",
    "plt.show()"
   ]
  },
  {
   "cell_type": "markdown",
   "metadata": {},
   "source": [
    "## おわりに\n",
    "この簡単なモデルでは騰落の正答率が53.8%、IC 0.076となりました。  \n",
    "ICを考えれば0.05以上で優秀な指標なので、儲かるモデルが作れたかのように思えます。  \n",
    "しかし、最初に購入して放置した場合のリターンが350%、モデル通りにトレードして256%と、買って何もしない方が強い状態です。  \n",
    "がっかりさせてしまったかもしれませんが、機械学習をトレードに利用する事は簡単ではありません。  \n",
    "ただ、機械学習を利用して収益を上げている方もいらっしゃいますので、このノートブックが貴方の第一歩になれば幸いです。  "
   ]
  }
 ],
 "metadata": {
  "kernelspec": {
   "display_name": "Python 3",
   "language": "python",
   "name": "python3"
  },
  "language_info": {
   "codemirror_mode": {
    "name": "ipython",
    "version": 3
   },
   "file_extension": ".py",
   "mimetype": "text/x-python",
   "name": "python",
   "nbconvert_exporter": "python",
   "pygments_lexer": "ipython3",
   "version": "3.6.8"
  }
 },
 "nbformat": 4,
 "nbformat_minor": 4
}
